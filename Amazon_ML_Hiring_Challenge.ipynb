{
  "nbformat": 4,
  "nbformat_minor": 0,
  "metadata": {
    "colab": {
      "name": "Amazon ML Hiring Challenge.ipynb",
      "version": "0.3.2",
      "provenance": [],
      "include_colab_link": true
    },
    "kernelspec": {
      "name": "python3",
      "display_name": "Python 3"
    }
  },
  "cells": [
    {
      "cell_type": "markdown",
      "metadata": {
        "id": "view-in-github",
        "colab_type": "text"
      },
      "source": [
        "<a href=\"https://colab.research.google.com/github/imkashif/Topic-Modelling-on-Amazon-Reviews-using-LDA-NLP/blob/master/Amazon_ML_Hiring_Challenge.ipynb\" target=\"_parent\"><img src=\"https://colab.research.google.com/assets/colab-badge.svg\" alt=\"Open In Colab\"/></a>"
      ]
    },
    {
      "cell_type": "code",
      "metadata": {
        "id": "C9KgpcjFKOsE",
        "colab_type": "code",
        "colab": {
          "base_uri": "https://localhost:8080/",
          "height": 17
        },
        "outputId": "309b5b0d-e734-45fc-d1a2-d2e88450e11a"
      },
      "source": [
        "import base64\n",
        "import numpy as np\n",
        "import pandas as pd\n",
        "\n",
        "# Plotly imports\n",
        "import plotly.offline as py\n",
        "py.init_notebook_mode(connected=True)\n",
        "import plotly.graph_objs as go\n",
        "import plotly.tools as tls\n",
        "\n",
        "# Other imports\n",
        "from collections import Counter\n",
        "import imageio\n",
        "from sklearn.feature_extraction.text import TfidfVectorizer, CountVectorizer\n",
        "from sklearn.decomposition import NMF, LatentDirichletAllocation\n",
        "from matplotlib import pyplot as plt\n",
        "%matplotlib inline"
      ],
      "execution_count": 22,
      "outputs": [
        {
          "output_type": "display_data",
          "data": {
            "text/vnd.plotly.v1+html": "<script type=\"text/javascript\">window.PlotlyConfig = {MathJaxConfig: 'local'};</script><script type=\"text/javascript\">if (window.MathJax) {MathJax.Hub.Config({SVG: {font: \"STIX-Web\"}});}</script><script>requirejs.config({paths: { 'plotly': ['https://cdn.plot.ly/plotly-latest.min']},});if(!window._Plotly) {require(['plotly'],function(plotly) {window._Plotly=plotly;});}</script>",
            "text/html": [
              "<script type=\"text/javascript\">window.PlotlyConfig = {MathJaxConfig: 'local'};</script><script type=\"text/javascript\">if (window.MathJax) {MathJax.Hub.Config({SVG: {font: \"STIX-Web\"}});}</script><script>requirejs.config({paths: { 'plotly': ['https://cdn.plot.ly/plotly-latest.min']},});if(!window._Plotly) {require(['plotly'],function(plotly) {window._Plotly=plotly;});}</script>"
            ]
          },
          "metadata": {
            "tags": []
          }
        }
      ]
    },
    {
      "cell_type": "code",
      "metadata": {
        "id": "o5WdSQlaLICz",
        "colab_type": "code",
        "colab": {
          "base_uri": "https://localhost:8080/",
          "height": 255
        },
        "outputId": "fbaa37b6-e33b-4bc3-9554-1240821fa95c"
      },
      "source": [
        "train = pd.read_csv('train.csv')\n",
        "print(train.head())\n",
        "print('unique topics- ',train.topic.unique())\n",
        "print('shape of training dataset- ',train.shape)"
      ],
      "execution_count": 23,
      "outputs": [
        {
          "output_type": "stream",
          "text": [
            "                                         Review Text  ...                  topic\n",
            "0  Did nothing for me, didn't help lost even with...  ...  Shipment and delivery\n",
            "1  Did nothing for me, didn't help lost even with...  ...          Not Effective\n",
            "2  I have bought these bags and  immediately open...  ...       Customer Service\n",
            "3         Gave me an allergic reaction on my face :(  ...               Allergic\n",
            "4  These don't compare to the name brand wipes. F...  ...                Texture\n",
            "\n",
            "[5 rows x 3 columns]\n",
            "unique topics-  ['Shipment and delivery' 'Not Effective' 'Customer Service' 'Allergic'\n",
            " 'Texture' 'Quality/Contaminated' 'Color and texture' 'Bad Taste/Flavor'\n",
            " 'Too big to swallow' 'Smells Bad' 'Too Sweet' 'Ingredients' 'Expiry'\n",
            " 'Packaging' 'Wrong Product received' 'Pricing' 'False Advertisement'\n",
            " 'Inferior to competitors' \"Didn't Like\" 'Customer Issues' 'Hard to Chew']\n",
            "shape of training dataset-  (5959, 3)\n"
          ],
          "name": "stdout"
        }
      ]
    },
    {
      "cell_type": "code",
      "metadata": {
        "id": "Fm9h34KbxfZ8",
        "colab_type": "code",
        "colab": {
          "base_uri": "https://localhost:8080/",
          "height": 542
        },
        "outputId": "e2e27214-edd8-407a-968a-f01138f097aa"
      },
      "source": [
        "#converting topics into dictionary to visulaize in plotly\n",
        "z = dict(zip(train.topic.unique(),train.topic.unique()))\n",
        "\n",
        "data = [go.Bar(\n",
        "            x = train.topic.map(z).unique(),\n",
        "            y = train.topic.value_counts().values,\n",
        "            marker= dict(colorscale='Viridis',\n",
        "                         color = train.topic.value_counts().values\n",
        "                        ),\n",
        "            text='Text entries attributed to Author'\n",
        "    )]\n",
        "\n",
        "layout = go.Layout(\n",
        "    title='Target variable distribution'\n",
        ")\n",
        "\n",
        "fig = go.Figure(data=data, layout=layout)\n",
        "\n",
        "py.iplot(fig, filename='basic-bar')"
      ],
      "execution_count": 24,
      "outputs": [
        {
          "output_type": "display_data",
          "data": {
            "text/vnd.plotly.v1+html": "<div id=\"77840479-dd8d-4eda-ad5d-18e98cc40721\" style=\"height: 525px; width: 100%;\" class=\"plotly-graph-div\"></div><script type=\"text/javascript\">require([\"plotly\"], function(Plotly) { window.PLOTLYENV=window.PLOTLYENV || {};window.PLOTLYENV.BASE_URL=\"https://plot.ly\";Plotly.newPlot(\"77840479-dd8d-4eda-ad5d-18e98cc40721\", [{\"marker\": {\"color\": [1194, 715, 611, 567, 467, 410, 390, 239, 234, 228, 216, 136, 123, 107, 99, 97, 44, 37, 31, 8, 6], \"colorscale\": \"Viridis\"}, \"text\": \"Text entries attributed to Author\", \"x\": [\"Shipment and delivery\", \"Not Effective\", \"Customer Service\", \"Allergic\", \"Texture\", \"Quality/Contaminated\", \"Color and texture\", \"Bad Taste/Flavor\", \"Too big to swallow\", \"Smells Bad\", \"Too Sweet\", \"Ingredients\", \"Expiry\", \"Packaging\", \"Wrong Product received\", \"Pricing\", \"False Advertisement\", \"Inferior to competitors\", \"Didn't Like\", \"Customer Issues\", \"Hard to Chew\"], \"y\": [1194, 715, 611, 567, 467, 410, 390, 239, 234, 228, 216, 136, 123, 107, 99, 97, 44, 37, 31, 8, 6], \"type\": \"bar\", \"uid\": \"81aed697-cdf5-445b-bb33-6b21adb461e0\"}], {\"title\": {\"text\": \"Target variable distribution\"}}, {\"showLink\": false, \"linkText\": \"Export to plot.ly\", \"plotlyServerURL\": \"https://plot.ly\"})});</script><script type=\"text/javascript\">window.addEventListener(\"resize\", function(){window._Plotly.Plots.resize(document.getElementById(\"77840479-dd8d-4eda-ad5d-18e98cc40721\"));});</script>",
            "text/html": [
              "<div id=\"77840479-dd8d-4eda-ad5d-18e98cc40721\" style=\"height: 525px; width: 100%;\" class=\"plotly-graph-div\"></div><script type=\"text/javascript\">require([\"plotly\"], function(Plotly) { window.PLOTLYENV=window.PLOTLYENV || {};window.PLOTLYENV.BASE_URL=\"https://plot.ly\";Plotly.newPlot(\"77840479-dd8d-4eda-ad5d-18e98cc40721\", [{\"marker\": {\"color\": [1194, 715, 611, 567, 467, 410, 390, 239, 234, 228, 216, 136, 123, 107, 99, 97, 44, 37, 31, 8, 6], \"colorscale\": \"Viridis\"}, \"text\": \"Text entries attributed to Author\", \"x\": [\"Shipment and delivery\", \"Not Effective\", \"Customer Service\", \"Allergic\", \"Texture\", \"Quality/Contaminated\", \"Color and texture\", \"Bad Taste/Flavor\", \"Too big to swallow\", \"Smells Bad\", \"Too Sweet\", \"Ingredients\", \"Expiry\", \"Packaging\", \"Wrong Product received\", \"Pricing\", \"False Advertisement\", \"Inferior to competitors\", \"Didn't Like\", \"Customer Issues\", \"Hard to Chew\"], \"y\": [1194, 715, 611, 567, 467, 410, 390, 239, 234, 228, 216, 136, 123, 107, 99, 97, 44, 37, 31, 8, 6], \"type\": \"bar\", \"uid\": \"81aed697-cdf5-445b-bb33-6b21adb461e0\"}], {\"title\": {\"text\": \"Target variable distribution\"}}, {\"showLink\": false, \"linkText\": \"Export to plot.ly\", \"plotlyServerURL\": \"https://plot.ly\"})});</script><script type=\"text/javascript\">window.addEventListener(\"resize\", function(){window._Plotly.Plots.resize(document.getElementById(\"77840479-dd8d-4eda-ad5d-18e98cc40721\"));});</script>"
            ],
            "application/vnd.plotly.v1+json": {
              "layout": {
                "title": {
                  "text": "Target variable distribution"
                }
              },
              "config": {
                "plotlyServerURL": "https://plot.ly",
                "linkText": "Export to plot.ly",
                "showLink": false
              },
              "data": [
                {
                  "uid": "81aed697-cdf5-445b-bb33-6b21adb461e0",
                  "text": "Text entries attributed to Author",
                  "y": [
                    1194,
                    715,
                    611,
                    567,
                    467,
                    410,
                    390,
                    239,
                    234,
                    228,
                    216,
                    136,
                    123,
                    107,
                    99,
                    97,
                    44,
                    37,
                    31,
                    8,
                    6
                  ],
                  "marker": {
                    "color": [
                      1194,
                      715,
                      611,
                      567,
                      467,
                      410,
                      390,
                      239,
                      234,
                      228,
                      216,
                      136,
                      123,
                      107,
                      99,
                      97,
                      44,
                      37,
                      31,
                      8,
                      6
                    ],
                    "colorscale": "Viridis"
                  },
                  "x": [
                    "Shipment and delivery",
                    "Not Effective",
                    "Customer Service",
                    "Allergic",
                    "Texture",
                    "Quality/Contaminated",
                    "Color and texture",
                    "Bad Taste/Flavor",
                    "Too big to swallow",
                    "Smells Bad",
                    "Too Sweet",
                    "Ingredients",
                    "Expiry",
                    "Packaging",
                    "Wrong Product received",
                    "Pricing",
                    "False Advertisement",
                    "Inferior to competitors",
                    "Didn't Like",
                    "Customer Issues",
                    "Hard to Chew"
                  ],
                  "type": "bar"
                }
              ]
            }
          },
          "metadata": {
            "tags": []
          }
        }
      ]
    },
    {
      "cell_type": "markdown",
      "metadata": {
        "id": "CXennlpx5C_J",
        "colab_type": "text"
      },
      "source": [
        "Another visualization that is useful is value counts of the most frequent words across all of the text. In order to accomplish that first of all we need to extract all of our words and count the number of occurances. (Note that NLTK library underneath deals with that) but here we are going to do it \"manually\" and the give it as arguments to our go part of the plotting"
      ]
    },
    {
      "cell_type": "code",
      "metadata": {
        "id": "A4xgrSwy8Jyy",
        "colab_type": "code",
        "colab": {
          "base_uri": "https://localhost:8080/",
          "height": 542
        },
        "outputId": "bef5d2ed-4350-474d-9720-e01a5877e623"
      },
      "source": [
        "all_words = train['Review Text'].str.split(expand=True).unstack().value_counts()\n",
        "data = [go.Bar(\n",
        "            x = all_words.index.values[2:50],\n",
        "            y = all_words.values[2:50],\n",
        "            marker= dict(colorscale='Viridis',\n",
        "                         color = all_words.values[2:100]\n",
        "                        ),\n",
        "            text='Word counts'\n",
        "    )]\n",
        "\n",
        "layout = go.Layout(\n",
        "    title='Top 50 (Uncleaned) Word frequencies in the training dataset'\n",
        ")\n",
        "\n",
        "fig = go.Figure(data=data, layout=layout)\n",
        "\n",
        "py.iplot(fig, filename='basic-bar')"
      ],
      "execution_count": 25,
      "outputs": [
        {
          "output_type": "display_data",
          "data": {
            "text/vnd.plotly.v1+html": "<div id=\"23859124-d9f9-4255-843e-a11eec578bc5\" style=\"height: 525px; width: 100%;\" class=\"plotly-graph-div\"></div><script type=\"text/javascript\">require([\"plotly\"], function(Plotly) { window.PLOTLYENV=window.PLOTLYENV || {};window.PLOTLYENV.BASE_URL=\"https://plot.ly\";Plotly.newPlot(\"23859124-d9f9-4255-843e-a11eec578bc5\", [{\"marker\": {\"color\": [8058, 7398, 6732, 4771, 4727, 3936, 3551, 3357, 3250, 3131, 2981, 2903, 2884, 2642, 2452, 2246, 1750, 1749, 1697, 1585, 1447, 1396, 1395, 1385, 1347, 1275, 1264, 1259, 1229, 1217, 1159, 1087, 1032, 1029, 1004, 963, 951, 923, 897, 871, 865, 853, 851, 851, 826, 819, 769, 751, 711, 708, 698, 694, 677, 672, 668, 666, 652, 651, 648, 640, 633, 629, 626, 621, 618, 614, 612, 594, 588, 584, 573, 570, 570, 561, 559, 551, 533, 533, 516, 510, 502, 501, 487, 486, 484, 474, 473, 465, 463, 455, 454, 447, 438, 421, 420, 419, 410, 402], \"colorscale\": \"Viridis\"}, \"text\": \"Word counts\", \"x\": [\"and\", \"to\", \"a\", \"it\", \"of\", \"is\", \"this\", \"not\", \"for\", \"was\", \"in\", \"my\", \"but\", \"that\", \"have\", \"with\", \"are\", \"like\", \"they\", \"The\", \"on\", \"you\", \"as\", \"so\", \"these\", \"be\", \"product\", \"me\", \"taste\", \"had\", \"just\", \"or\", \"at\", \"them\", \"from\", \"It\", \"if\", \"This\", \"get\", \"one\", \"no\", \"because\", \"very\", \"all\", \"/><br\", \"will\", \"would\", \"other\"], \"y\": [8058, 7398, 6732, 4771, 4727, 3936, 3551, 3357, 3250, 3131, 2981, 2903, 2884, 2642, 2452, 2246, 1750, 1749, 1697, 1585, 1447, 1396, 1395, 1385, 1347, 1275, 1264, 1259, 1229, 1217, 1159, 1087, 1032, 1029, 1004, 963, 951, 923, 897, 871, 865, 853, 851, 851, 826, 819, 769, 751], \"type\": \"bar\", \"uid\": \"85c3e927-721a-476b-8c71-f77978d27fe6\"}], {\"title\": {\"text\": \"Top 50 (Uncleaned) Word frequencies in the training dataset\"}}, {\"showLink\": false, \"linkText\": \"Export to plot.ly\", \"plotlyServerURL\": \"https://plot.ly\"})});</script><script type=\"text/javascript\">window.addEventListener(\"resize\", function(){window._Plotly.Plots.resize(document.getElementById(\"23859124-d9f9-4255-843e-a11eec578bc5\"));});</script>",
            "text/html": [
              "<div id=\"23859124-d9f9-4255-843e-a11eec578bc5\" style=\"height: 525px; width: 100%;\" class=\"plotly-graph-div\"></div><script type=\"text/javascript\">require([\"plotly\"], function(Plotly) { window.PLOTLYENV=window.PLOTLYENV || {};window.PLOTLYENV.BASE_URL=\"https://plot.ly\";Plotly.newPlot(\"23859124-d9f9-4255-843e-a11eec578bc5\", [{\"marker\": {\"color\": [8058, 7398, 6732, 4771, 4727, 3936, 3551, 3357, 3250, 3131, 2981, 2903, 2884, 2642, 2452, 2246, 1750, 1749, 1697, 1585, 1447, 1396, 1395, 1385, 1347, 1275, 1264, 1259, 1229, 1217, 1159, 1087, 1032, 1029, 1004, 963, 951, 923, 897, 871, 865, 853, 851, 851, 826, 819, 769, 751, 711, 708, 698, 694, 677, 672, 668, 666, 652, 651, 648, 640, 633, 629, 626, 621, 618, 614, 612, 594, 588, 584, 573, 570, 570, 561, 559, 551, 533, 533, 516, 510, 502, 501, 487, 486, 484, 474, 473, 465, 463, 455, 454, 447, 438, 421, 420, 419, 410, 402], \"colorscale\": \"Viridis\"}, \"text\": \"Word counts\", \"x\": [\"and\", \"to\", \"a\", \"it\", \"of\", \"is\", \"this\", \"not\", \"for\", \"was\", \"in\", \"my\", \"but\", \"that\", \"have\", \"with\", \"are\", \"like\", \"they\", \"The\", \"on\", \"you\", \"as\", \"so\", \"these\", \"be\", \"product\", \"me\", \"taste\", \"had\", \"just\", \"or\", \"at\", \"them\", \"from\", \"It\", \"if\", \"This\", \"get\", \"one\", \"no\", \"because\", \"very\", \"all\", \"/><br\", \"will\", \"would\", \"other\"], \"y\": [8058, 7398, 6732, 4771, 4727, 3936, 3551, 3357, 3250, 3131, 2981, 2903, 2884, 2642, 2452, 2246, 1750, 1749, 1697, 1585, 1447, 1396, 1395, 1385, 1347, 1275, 1264, 1259, 1229, 1217, 1159, 1087, 1032, 1029, 1004, 963, 951, 923, 897, 871, 865, 853, 851, 851, 826, 819, 769, 751], \"type\": \"bar\", \"uid\": \"85c3e927-721a-476b-8c71-f77978d27fe6\"}], {\"title\": {\"text\": \"Top 50 (Uncleaned) Word frequencies in the training dataset\"}}, {\"showLink\": false, \"linkText\": \"Export to plot.ly\", \"plotlyServerURL\": \"https://plot.ly\"})});</script><script type=\"text/javascript\">window.addEventListener(\"resize\", function(){window._Plotly.Plots.resize(document.getElementById(\"23859124-d9f9-4255-843e-a11eec578bc5\"));});</script>"
            ],
            "application/vnd.plotly.v1+json": {
              "layout": {
                "title": {
                  "text": "Top 50 (Uncleaned) Word frequencies in the training dataset"
                }
              },
              "config": {
                "plotlyServerURL": "https://plot.ly",
                "linkText": "Export to plot.ly",
                "showLink": false
              },
              "data": [
                {
                  "uid": "85c3e927-721a-476b-8c71-f77978d27fe6",
                  "text": "Word counts",
                  "y": [
                    8058,
                    7398,
                    6732,
                    4771,
                    4727,
                    3936,
                    3551,
                    3357,
                    3250,
                    3131,
                    2981,
                    2903,
                    2884,
                    2642,
                    2452,
                    2246,
                    1750,
                    1749,
                    1697,
                    1585,
                    1447,
                    1396,
                    1395,
                    1385,
                    1347,
                    1275,
                    1264,
                    1259,
                    1229,
                    1217,
                    1159,
                    1087,
                    1032,
                    1029,
                    1004,
                    963,
                    951,
                    923,
                    897,
                    871,
                    865,
                    853,
                    851,
                    851,
                    826,
                    819,
                    769,
                    751
                  ],
                  "marker": {
                    "color": [
                      8058,
                      7398,
                      6732,
                      4771,
                      4727,
                      3936,
                      3551,
                      3357,
                      3250,
                      3131,
                      2981,
                      2903,
                      2884,
                      2642,
                      2452,
                      2246,
                      1750,
                      1749,
                      1697,
                      1585,
                      1447,
                      1396,
                      1395,
                      1385,
                      1347,
                      1275,
                      1264,
                      1259,
                      1229,
                      1217,
                      1159,
                      1087,
                      1032,
                      1029,
                      1004,
                      963,
                      951,
                      923,
                      897,
                      871,
                      865,
                      853,
                      851,
                      851,
                      826,
                      819,
                      769,
                      751,
                      711,
                      708,
                      698,
                      694,
                      677,
                      672,
                      668,
                      666,
                      652,
                      651,
                      648,
                      640,
                      633,
                      629,
                      626,
                      621,
                      618,
                      614,
                      612,
                      594,
                      588,
                      584,
                      573,
                      570,
                      570,
                      561,
                      559,
                      551,
                      533,
                      533,
                      516,
                      510,
                      502,
                      501,
                      487,
                      486,
                      484,
                      474,
                      473,
                      465,
                      463,
                      455,
                      454,
                      447,
                      438,
                      421,
                      420,
                      419,
                      410,
                      402
                    ],
                    "colorscale": "Viridis"
                  },
                  "x": [
                    "and",
                    "to",
                    "a",
                    "it",
                    "of",
                    "is",
                    "this",
                    "not",
                    "for",
                    "was",
                    "in",
                    "my",
                    "but",
                    "that",
                    "have",
                    "with",
                    "are",
                    "like",
                    "they",
                    "The",
                    "on",
                    "you",
                    "as",
                    "so",
                    "these",
                    "be",
                    "product",
                    "me",
                    "taste",
                    "had",
                    "just",
                    "or",
                    "at",
                    "them",
                    "from",
                    "It",
                    "if",
                    "This",
                    "get",
                    "one",
                    "no",
                    "because",
                    "very",
                    "all",
                    "/><br",
                    "will",
                    "would",
                    "other"
                  ],
                  "type": "bar"
                }
              ]
            }
          },
          "metadata": {
            "tags": []
          }
        }
      ]
    },
    {
      "cell_type": "code",
      "metadata": {
        "id": "NfU-KJkq5R1Y",
        "colab_type": "code",
        "colab": {}
      },
      "source": [
        ""
      ],
      "execution_count": 0,
      "outputs": []
    }
  ]
}