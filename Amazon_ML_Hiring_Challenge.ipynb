{
  "nbformat": 4,
  "nbformat_minor": 0,
  "metadata": {
    "colab": {
      "name": "Amazon ML Hiring Challenge.ipynb",
      "version": "0.3.2",
      "provenance": [],
      "include_colab_link": true
    },
    "kernelspec": {
      "name": "python3",
      "display_name": "Python 3"
    }
  },
  "cells": [
    {
      "cell_type": "markdown",
      "metadata": {
        "id": "view-in-github",
        "colab_type": "text"
      },
      "source": [
        "<a href=\"https://colab.research.google.com/github/imkashif/Topic-Modelling-on-Amazon-Reviews-using-LDA-NLP/blob/master/Amazon_ML_Hiring_Challenge.ipynb\" target=\"_parent\"><img src=\"https://colab.research.google.com/assets/colab-badge.svg\" alt=\"Open In Colab\"/></a>"
      ]
    },
    {
      "cell_type": "code",
      "metadata": {
        "id": "C9KgpcjFKOsE",
        "colab_type": "code",
        "colab": {
          "base_uri": "https://localhost:8080/",
          "height": 17
        },
        "outputId": "98c18de9-138c-4443-f8e6-9c2429121413"
      },
      "source": [
        "import base64\n",
        "import numpy as np\n",
        "import pandas as pd\n",
        "\n",
        "# Plotly imports\n",
        "import plotly.offline as py\n",
        "py.init_notebook_mode(connected=True)\n",
        "import plotly.graph_objs as go\n",
        "import plotly.tools as tls\n",
        "\n",
        "# Other imports\n",
        "from collections import Counter\n",
        "import imageio\n",
        "from sklearn.feature_extraction.text import TfidfVectorizer, CountVectorizer\n",
        "from sklearn.decomposition import NMF, LatentDirichletAllocation\n",
        "from matplotlib import pyplot as plt\n",
        "%matplotlib inline"
      ],
      "execution_count": 11,
      "outputs": [
        {
          "output_type": "display_data",
          "data": {
            "text/vnd.plotly.v1+html": "<script type=\"text/javascript\">window.PlotlyConfig = {MathJaxConfig: 'local'};</script><script type=\"text/javascript\">if (window.MathJax) {MathJax.Hub.Config({SVG: {font: \"STIX-Web\"}});}</script><script>requirejs.config({paths: { 'plotly': ['https://cdn.plot.ly/plotly-latest.min']},});if(!window._Plotly) {require(['plotly'],function(plotly) {window._Plotly=plotly;});}</script>",
            "text/html": [
              "<script type=\"text/javascript\">window.PlotlyConfig = {MathJaxConfig: 'local'};</script><script type=\"text/javascript\">if (window.MathJax) {MathJax.Hub.Config({SVG: {font: \"STIX-Web\"}});}</script><script>requirejs.config({paths: { 'plotly': ['https://cdn.plot.ly/plotly-latest.min']},});if(!window._Plotly) {require(['plotly'],function(plotly) {window._Plotly=plotly;});}</script>"
            ]
          },
          "metadata": {
            "tags": []
          }
        }
      ]
    },
    {
      "cell_type": "code",
      "metadata": {
        "id": "o5WdSQlaLICz",
        "colab_type": "code",
        "colab": {
          "base_uri": "https://localhost:8080/",
          "height": 255
        },
        "outputId": "9402edd4-f198-4941-950d-98e28cd348be"
      },
      "source": [
        "data = pd.read_csv('train.csv')\n",
        "print(data.head())\n",
        "print('unique topics- ',data.topic.unique())\n",
        "print('shape of training dataset- ',data.shape)"
      ],
      "execution_count": 13,
      "outputs": [
        {
          "output_type": "stream",
          "text": [
            "                                         Review Text  ...                  topic\n",
            "0  Did nothing for me, didn't help lost even with...  ...  Shipment and delivery\n",
            "1  Did nothing for me, didn't help lost even with...  ...          Not Effective\n",
            "2  I have bought these bags and  immediately open...  ...       Customer Service\n",
            "3         Gave me an allergic reaction on my face :(  ...               Allergic\n",
            "4  These don't compare to the name brand wipes. F...  ...                Texture\n",
            "\n",
            "[5 rows x 3 columns]\n",
            "unique topics-  ['Shipment and delivery' 'Not Effective' 'Customer Service' 'Allergic'\n",
            " 'Texture' 'Quality/Contaminated' 'Color and texture' 'Bad Taste/Flavor'\n",
            " 'Too big to swallow' 'Smells Bad' 'Too Sweet' 'Ingredients' 'Expiry'\n",
            " 'Packaging' 'Wrong Product received' 'Pricing' 'False Advertisement'\n",
            " 'Inferior to competitors' \"Didn't Like\" 'Customer Issues' 'Hard to Chew']\n",
            "shape of training dataset-  (5959, 3)\n"
          ],
          "name": "stdout"
        }
      ]
    }
  ]
}